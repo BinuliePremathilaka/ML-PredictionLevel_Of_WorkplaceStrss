{
 "cells": [
  {
   "cell_type": "code",
   "execution_count": 1,
   "id": "6583e4c1",
   "metadata": {},
   "outputs": [
    {
     "name": "stdout",
     "output_type": "stream",
     "text": [
      "    Home interference      role  supervisor   workload  Round AVG  \\\n",
      "0                 1.0  1.333333    1.333333   2.333333          1   \n",
      "1                 3.0  3.000000    3.000000   3.000000          3   \n",
      "2                 5.0  4.666667    2.666667   5.000000          4   \n",
      "3                 5.0  4.666667    2.666667   5.000000          4   \n",
      "4                 5.0  4.666667    2.666667   5.000000          4   \n",
      "\n",
      "    Job itself       Pay   Promotion  Supervisor  Coworker  W_condition  \n",
      "0     3.000000  3.666667    3.000000    3.000000  3.000000     2.333333  \n",
      "1     3.000000  3.000000    3.000000    3.000000  3.000000     3.000000  \n",
      "2     4.666667  4.000000    2.000000    3.666667  1.666667     1.333333  \n",
      "3     4.000000  4.000000    2.333333    4.000000  1.666667     1.666667  \n",
      "4     4.000000  4.333333    3.666667    4.000000  4.333333     2.333333  \n"
     ]
    }
   ],
   "source": [
    "import pandas as pd\n",
    "from sklearn.model_selection import train_test_split\n",
    "from sklearn.linear_model import LinearRegression\n",
    "from sklearn.metrics import mean_squared_error, mean_absolute_error\n",
    "\n",
    "# Load your dataset from an Excel file (replace 'data.xlsx' with your Excel file)\n",
    "data = pd.read_excel('D:\\\\downloads_c\\\\Stress_Level.xlsx')\n",
    "print(data.head())\n"
   ]
  },
  {
   "cell_type": "code",
   "execution_count": 2,
   "id": "8fb0e616",
   "metadata": {},
   "outputs": [
    {
     "name": "stdout",
     "output_type": "stream",
     "text": [
      "R-squared: 0.6561160747794532\n"
     ]
    }
   ],
   "source": [
    "# Define predictors and response variables\n",
    "predictors = [' Job itself', 'Pay', ' Promotion', 'Supervisor', 'Coworker','W_condition']\n",
    "response = 'Round AVG'\n",
    "\n",
    "# Prepare the data\n",
    "x = data[predictors]\n",
    "y = data[response]\n",
    "\n",
    "# Split the data into training and testing sets\n",
    "X_train, X_test, y_train, y_test = train_test_split(x, y, test_size=0.1, random_state=42)\n",
    "\n",
    "# Create a linear regression model\n",
    "model = LinearRegression()\n",
    "\n",
    "# Fit the model\n",
    "model.fit(X_train, y_train)\n",
    "\n",
    "# Calculate R-squared (Coefficient of Determination) on the test set\n",
    "r_squared = model.score(X_test, y_test)\n",
    "print(f\"R-squared: {r_squared}\")\n"
   ]
  },
  {
   "cell_type": "code",
   "execution_count": 3,
   "id": "361bc4a1",
   "metadata": {},
   "outputs": [
    {
     "name": "stdout",
     "output_type": "stream",
     "text": [
      "Index([' Home interference', ' role', 'supervisor', ' workload', 'Round AVG',\n",
      "       ' Job itself', 'Pay', ' Promotion', 'Supervisor', 'Coworker',\n",
      "       'W_condition'],\n",
      "      dtype='object')\n"
     ]
    }
   ],
   "source": [
    "print(data.columns)\n"
   ]
  },
  {
   "cell_type": "code",
   "execution_count": 4,
   "id": "6af6cd59",
   "metadata": {},
   "outputs": [
    {
     "name": "stdout",
     "output_type": "stream",
     "text": [
      "Predicted Values:\n",
      "[2.23863286 2.64504981 2.64504981 3.83243394 3.51670851 2.23863286\n",
      " 3.51670851 2.64504981 3.51670851 4.42829957 2.64504981 4.42829957\n",
      " 2.64504981 3.22533479 2.23863286]\n"
     ]
    }
   ],
   "source": [
    "# Predict the continuous outcome for the test set\n",
    "predicted_values = model.predict(X_test)\n",
    "\n",
    "# Display the predicted continuous values\n",
    "print(\"Predicted Values:\")\n",
    "print(predicted_values)"
   ]
  },
  {
   "cell_type": "code",
   "execution_count": 5,
   "id": "2e6dd709",
   "metadata": {},
   "outputs": [],
   "source": [
    "# Calculate Mean Squared Error (MSE) and Mean Absolute Error (MAE)\n",
    "mse = mean_squared_error(y_test, predicted_values)\n",
    "mae = mean_absolute_error(y_test, predicted_values)\n"
   ]
  },
  {
   "cell_type": "code",
   "execution_count": 6,
   "id": "329cf3b7",
   "metadata": {},
   "outputs": [
    {
     "name": "stdout",
     "output_type": "stream",
     "text": [
      "Mean Squared Error (MSE): 0.42183094827053735\n",
      "Mean Absolute Error (MAE): 0.5743816311261885\n"
     ]
    }
   ],
   "source": [
    "# Display MSE and MAE\n",
    "print(f\"Mean Squared Error (MSE): {mse}\")\n",
    "print(f\"Mean Absolute Error (MAE): {mae}\")"
   ]
  },
  {
   "cell_type": "code",
   "execution_count": 7,
   "id": "96a56470",
   "metadata": {},
   "outputs": [
    {
     "name": "stdout",
     "output_type": "stream",
     "text": [
      "      Home interference      role  supervisor   workload  Round AVG  \\\n",
      "0                   1.0  1.333333    1.333333   2.333333          1   \n",
      "1                   3.0  3.000000    3.000000   3.000000          3   \n",
      "2                   5.0  4.666667    2.666667   5.000000          4   \n",
      "3                   5.0  4.666667    2.666667   5.000000          4   \n",
      "4                   5.0  4.666667    2.666667   5.000000          4   \n",
      "..                  ...       ...         ...        ...        ...   \n",
      "142                 1.0  1.333333    1.333333   2.333333          1   \n",
      "143                 3.0  3.000000    3.000000   3.000000          3   \n",
      "144                 3.0  3.000000    3.000000   3.000000          3   \n",
      "145                 1.0  1.333333    1.333333   2.333333          1   \n",
      "146                 3.0  3.000000    3.000000   3.000000          3   \n",
      "\n",
      "      Job itself       Pay   Promotion  Supervisor  Coworker  W_condition  \\\n",
      "0       3.000000  3.666667    3.000000    3.000000  3.000000     2.333333   \n",
      "1       3.000000  3.000000    3.000000    3.000000  3.000000     3.000000   \n",
      "2       4.666667  4.000000    2.000000    3.666667  1.666667     1.333333   \n",
      "3       4.000000  4.000000    2.333333    4.000000  1.666667     1.666667   \n",
      "4       4.000000  4.333333    3.666667    4.000000  4.333333     2.333333   \n",
      "..           ...       ...         ...         ...       ...          ...   \n",
      "142     3.000000  3.666667    3.000000    3.000000  3.000000     2.333333   \n",
      "143     3.000000  3.000000    3.000000    3.000000  3.000000     3.000000   \n",
      "144     3.000000  3.000000    3.000000    3.000000  3.000000     3.000000   \n",
      "145     3.000000  3.666667    3.000000    3.000000  3.000000     2.333333   \n",
      "146     3.000000  3.000000    3.000000    3.000000  3.000000     3.000000   \n",
      "\n",
      "     predicted_intent  \n",
      "0            2.238633  \n",
      "1            2.645050  \n",
      "2            3.386694  \n",
      "3            3.516709  \n",
      "4            3.030526  \n",
      "..                ...  \n",
      "142          2.238633  \n",
      "143          2.645050  \n",
      "144          2.645050  \n",
      "145          2.238633  \n",
      "146          2.645050  \n",
      "\n",
      "[147 rows x 12 columns]\n"
     ]
    }
   ],
   "source": [
    "# Predict the continuous outcome for the entire dataset\n",
    "data['predicted_intent'] = model.predict(x)\n",
    "\n",
    "# Display the updated DataFrame\n",
    "print(data)"
   ]
  },
  {
   "cell_type": "code",
   "execution_count": 8,
   "id": "84c7f738",
   "metadata": {},
   "outputs": [
    {
     "name": "stdout",
     "output_type": "stream",
     "text": [
      "DataFrame with predicted intent saved to outputfile_Linear__Regression.xlsx\n"
     ]
    }
   ],
   "source": [
    "\n",
    "# Export the DataFrame to an Excel file\n",
    "output_file_path = 'outputfile_Linear__Regression.xlsx'\n",
    "data.to_excel(output_file_path, index=False)\n",
    "\n",
    "print(f\"DataFrame with predicted intent saved to {output_file_path}\")\n"
   ]
  },
  {
   "cell_type": "code",
   "execution_count": null,
   "id": "41481985",
   "metadata": {},
   "outputs": [],
   "source": []
  },
  {
   "cell_type": "code",
   "execution_count": null,
   "id": "dda7e5e4",
   "metadata": {},
   "outputs": [],
   "source": []
  }
 ],
 "metadata": {
  "kernelspec": {
   "display_name": "Python 3 (ipykernel)",
   "language": "python",
   "name": "python3"
  },
  "language_info": {
   "codemirror_mode": {
    "name": "ipython",
    "version": 3
   },
   "file_extension": ".py",
   "mimetype": "text/x-python",
   "name": "python",
   "nbconvert_exporter": "python",
   "pygments_lexer": "ipython3",
   "version": "3.11.4"
  }
 },
 "nbformat": 4,
 "nbformat_minor": 5
}
